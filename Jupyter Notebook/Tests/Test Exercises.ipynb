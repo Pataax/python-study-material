{
 "cells": [
  {
   "cell_type": "markdown",
   "metadata": {},
   "source": [
    "# Exercises"
   ]
  },
  {
   "cell_type": "markdown",
   "metadata": {},
   "source": [
    "**City, Country:**\n",
    "1.  Write a function that accepts two parameters: a city name and a country name.\n",
    "2. The function should return a single string of the form City, \n",
    "Country, such as Santiago, Chile.\n",
    "3. Store the function in a module called city_functions.py\n",
    "4. Create a file called test_cities.py that tests the function you just wrote.\n",
    "5. Write a method called test_city_country() to verify that calling your function with values such as 'santiago' and 'chile' results in the correct string. Run test_cities.py, and make sure test_city_country() passes.<br>\n",
    "\n",
    "**Population:**\n",
    "1. Modify your function so it requires a third parameter, population. It should now return a single string of the form City, Country – population xxx, such as Santiago, Chile – population 5000000. Population parameter is optional. \n",
    "2. Write a second test called test_city_country_population() that verifies you can call your function with the values 'santiago', 'chile', and 'population=5000000'. \n",
    "3. Run test_cities.py again, and make sure this new test passes.\n",
    "---"
   ]
  },
  {
   "cell_type": "markdown",
   "metadata": {},
   "source": [
    "*file name = city_functions.py*"
   ]
  },
  {
   "cell_type": "code",
   "execution_count": 1,
   "metadata": {},
   "outputs": [
    {
     "data": {
      "text/plain": [
       "'Santiago, Chile'"
      ]
     },
     "execution_count": 1,
     "metadata": {},
     "output_type": "execute_result"
    }
   ],
   "source": [
    "def get_city_country_name(city_name, country_name):\n",
    "    formatted_name = f'{city_name}, {country_name}'\n",
    "    return formatted_name.title()\n",
    "\n",
    "get_city_country_name('santiago', 'chile')"
   ]
  },
  {
   "cell_type": "markdown",
   "metadata": {},
   "source": [
    "*file name = test_cities.py*"
   ]
  },
  {
   "cell_type": "code",
   "execution_count": 2,
   "metadata": {},
   "outputs": [],
   "source": [
    "import unittest\n",
    "#from city_functions import get_city_country_name\n",
    "\n",
    "\n",
    "class CityCountryTestCase(unittest.TestCase):\n",
    "    def test_city_country(self):\n",
    "        formatted_name = get_city_country_name('santiago', 'chile')\n",
    "        self.assertEqual(formatted_name, 'Santiago, Chile')\n",
    "\n",
    "#unittest.main()"
   ]
  },
  {
   "cell_type": "markdown",
   "metadata": {},
   "source": [
    "---"
   ]
  },
  {
   "cell_type": "code",
   "execution_count": 6,
   "metadata": {},
   "outputs": [
    {
     "data": {
      "text/plain": [
       "'Santiago, Chile - Population 5000000'"
      ]
     },
     "execution_count": 6,
     "metadata": {},
     "output_type": "execute_result"
    }
   ],
   "source": [
    "def get_city_country_name(city_name, country_name, population=''):\n",
    "    if population:\n",
    "        formatted_name = f'{city_name}, {country_name} - Population {population}'\n",
    "    else:\n",
    "        formatted_name = f'{city_name}, {country_name}'\n",
    "    return formatted_name.title()\n",
    "\n",
    "get_city_country_name('santiago', 'chile', 5000000)"
   ]
  },
  {
   "cell_type": "code",
   "execution_count": 1,
   "metadata": {},
   "outputs": [],
   "source": [
    "import unittest\n",
    "#from city_functions import get_city_country_name\n",
    "\n",
    "\n",
    "class CityCountryTestCase(unittest.TestCase):\n",
    "    def test_city_country(self):\n",
    "        formatted_name = get_city_country_name('santiago', 'chile')\n",
    "        self.assertEqual(formatted_name, 'Santiago, Chile')\n",
    "\n",
    "    def test_city_country_population(self):\n",
    "        formatted_name = get_city_country_name('santiago', 'chile', population=5000000)\n",
    "        self.assertEqual(formatted_name, 'Santiago, Chile - Population 5000000')        \n",
    "\n",
    "#unittest.main()"
   ]
  },
  {
   "cell_type": "markdown",
   "metadata": {},
   "source": [
    "---\n",
    "**Employee:**\n",
    "1.  Write a class called Employee\n",
    "2. The __init__() method should take in a first name, a last name, and an annual salary, and store each of these as attributes.\n",
    "3. Write a method called give_raise() that adds $5000 to the annual salary by default but also accepts a different raise amount.\n",
    "4. Write a test case for Employee\n",
    "5.  Write two test methods, test_give_default_raise() and test_give_custom_raise(). Use the setUp() method so you don’t have to create a new employee instance in each test method. Run your test case, and make sure both tests pass.\n",
    "\n",
    "---"
   ]
  },
  {
   "cell_type": "markdown",
   "metadata": {},
   "source": [
    "*filename = employee.py*"
   ]
  },
  {
   "cell_type": "code",
   "execution_count": 46,
   "metadata": {},
   "outputs": [],
   "source": [
    "class Employee():\n",
    "    def __init__(self, first, last, salary):\n",
    "        self.first = first\n",
    "        self.last = last\n",
    "        self.salary = salary\n",
    "        \n",
    "    def give_raise(self, add=5000):\n",
    "        self.salary += add\n",
    "        \n",
    "    def show_salary(self):\n",
    "        print(self.salary)"
   ]
  },
  {
   "cell_type": "markdown",
   "metadata": {},
   "source": [
    "*filename = test_emplyee.py*"
   ]
  },
  {
   "cell_type": "code",
   "execution_count": 5,
   "metadata": {},
   "outputs": [],
   "source": [
    "import unittest\n",
    "# from employee import Employee\n",
    "\n",
    "\n",
    "class Test_Employee(unittest.TestCase):\n",
    "    \n",
    "    def setUp(self):\n",
    "        self.employee1 = Employee('Bruno', 'Oliveira', 10000)\n",
    "    \n",
    "    def test_give_default_raise(self):\n",
    "        self.assertEqual(self.employee1.give_raise(), 15000)\n",
    "    \n",
    "    def test_give_custom_raise(self):\n",
    "        pass\n",
    "    \n",
    "unittest.main()"
   ]
  }
 ],
 "metadata": {
  "kernelspec": {
   "display_name": "Python 3",
   "language": "python",
   "name": "python3"
  },
  "language_info": {
   "codemirror_mode": {
    "name": "ipython",
    "version": 3
   },
   "file_extension": ".py",
   "mimetype": "text/x-python",
   "name": "python",
   "nbconvert_exporter": "python",
   "pygments_lexer": "ipython3",
   "version": "3.8.3"
  }
 },
 "nbformat": 4,
 "nbformat_minor": 4
}
