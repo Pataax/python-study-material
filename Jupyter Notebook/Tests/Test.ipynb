{
 "cells": [
  {
   "cell_type": "markdown",
   "metadata": {},
   "source": [
    "# Testing your code"
   ]
  },
  {
   "cell_type": "markdown",
   "metadata": {},
   "source": [
    "&emsp;Testing proves that your code works as it’s supposed to in response to all the input types it’s designed to receive.<br>\n",
    "&emsp;You’ll also be able to test new code as you add it to make sure your changes don’t break your program’s existing behavior. "
   ]
  },
  {
   "cell_type": "markdown",
   "metadata": {},
   "source": [
    "# Testing a function"
   ]
  },
  {
   "cell_type": "markdown",
   "metadata": {},
   "source": [
    "&emsp;Here’s a simple function that takes in a first and last name, and returns a neatly formatted full name:\n",
    "\n",
    "---"
   ]
  },
  {
   "cell_type": "markdown",
   "metadata": {},
   "source": [
    "*file name = name_function.py*"
   ]
  },
  {
   "cell_type": "code",
   "execution_count": 1,
   "metadata": {},
   "outputs": [],
   "source": [
    "def get_formatted_name(first, last):\n",
    "    full_name = f'{first} {last}'\n",
    "    return full_name.title()"
   ]
  },
  {
   "cell_type": "markdown",
   "metadata": {},
   "source": [
    "---\n",
    "&emsp;To check that **get_formatted_name()** works, let’s make a program that uses this function.\n",
    "\n",
    "---"
   ]
  },
  {
   "cell_type": "markdown",
   "metadata": {},
   "source": [
    "*file name = names.py*"
   ]
  },
  {
   "cell_type": "code",
   "execution_count": 2,
   "metadata": {},
   "outputs": [
    {
     "name": "stdout",
     "output_type": "stream",
     "text": [
      "Enter 'q' at any time to quit.\n"
     ]
    },
    {
     "name": "stdin",
     "output_type": "stream",
     "text": [
      "\n",
      "Please give me a first name:  q\n"
     ]
    }
   ],
   "source": [
    "# from name_function import get_formatted_name  # descomentar esta linha\n",
    "\n",
    "print(\"Enter 'q' at any time to quit.\")\n",
    "\n",
    "while True:\n",
    "    first = input(\"\\nPlease give me a first name: \")\n",
    "    if first == 'q':\n",
    "        break\n",
    "    last = input(\"Please give me a last name: \")\n",
    "    if last == 'q':\n",
    "        break\n",
    "        \n",
    "    formatted_name = get_formatted_name(first, last)\n",
    "    print(f'\\tNeatly formatted name: {formatted_name}.')"
   ]
  },
  {
   "cell_type": "markdown",
   "metadata": {},
   "source": [
    "---\n",
    "&emsp;Let’s say we want to modify **get_formatted_name()** so it can also handle middle names.<br>\n",
    "&emsp;As we do so, we want to make sure we don’t break the way the function handles names that have only a first and last name. We could test our code entering a name like Janis Joplin every time we modify **get_formatted_name()**, but that would become tedious.<br>\n",
    "&emsp;Fortunately, Python provides an efficient way to automate the testing of a function’s output."
   ]
  },
  {
   "cell_type": "markdown",
   "metadata": {},
   "source": [
    "### Unit Tests and Test Cases"
   ]
  },
  {
   "cell_type": "markdown",
   "metadata": {},
   "source": [
    "&emsp;A unit test verifies that **one specific aspect** of a function’s behavior is correct. A test case is a **collection of unit tests** that together prove that a function behaves as it’s supposed to, within the full range of situations you expect it to handle. A good test case considers all the possible kinds of input a function could receive and includes tests to represent each of these situations.<br>\n",
    "&emsp;Achieving full coverage on a large project can be daunting. It’s often good enough to write tests for your code’s critical behaviors and then aim for full coverage only if the project starts to see widespread use."
   ]
  },
  {
   "cell_type": "markdown",
   "metadata": {},
   "source": [
    "### A Passing Test"
   ]
  },
  {
   "cell_type": "markdown",
   "metadata": {},
   "source": [
    "&emsp;To write a test case for a function, import the unittest module and the function you want to test. Then create a class that inherits from **unittest.TestCase**, and write a series of methods to test different aspects of your function’s behavior.\n",
    "\n",
    "---"
   ]
  },
  {
   "cell_type": "markdown",
   "metadata": {},
   "source": [
    "*file name = test_name_function.py*"
   ]
  },
  {
   "cell_type": "code",
   "execution_count": 3,
   "metadata": {},
   "outputs": [],
   "source": [
    "import unittest\n",
    "# from name_function import get_formatted_name  # descomentar esta linha\n",
    "\n",
    "class NamesTestCase(unittest.TestCase):\n",
    "    def test_first_last_name(self):\n",
    "        \"\"\"Do names like 'Janis Joplin work?'\"\"\"\n",
    "        formatted_name = get_formatted_name('janis', 'joplin')\n",
    "        self.assertEqual(formatted_name, 'Janis Joplin')\n",
    "\n",
    "#unittest.main() # descomentar esta linha, aqui no notebook dá erro."
   ]
  },
  {
   "cell_type": "markdown",
   "metadata": {},
   "source": [
    "---\n",
    "&emsp;You can name the class anything you want, but it’s best to call it something related to the function you’re about to test and to use the word Test in the class name.<br>\n",
    "&emsp;Any method that starts with **test_** will be run automatically when we run test_name_function.py. Within this test method, we call the function we want to test and store a return value that we’re interested in testing."
   ]
  },
  {
   "cell_type": "markdown",
   "metadata": {},
   "source": [
    "&emsp;Any method that starts with **test_** will be run automatically when we run test_name_function.py.<br>\n",
    "&emsp;**Assert** methods verify that a result you received matches the result you expected to receive.<br> \n",
    "&emsp;The line **unittest.main()** tells Python to run the tests in this file. When we run test_name_function.py, we get the following output:<br>\n",
    "&emsp;.<br>\n",
    "&emsp;------------------------------------<br>\n",
    "&emsp;Ran 1 test in 0.000s<br>\n",
    "&emsp;OK "
   ]
  },
  {
   "cell_type": "markdown",
   "metadata": {},
   "source": [
    "### A Faling test"
   ]
  },
  {
   "cell_type": "markdown",
   "metadata": {},
   "source": [
    "&emsp;Let’s modify **get_formatted_name()** so it can handle middle names, but we’ll do so in a way that breaks the function for names with just a first and last name, like Janis Joplin."
   ]
  },
  {
   "cell_type": "code",
   "execution_count": 4,
   "metadata": {},
   "outputs": [],
   "source": [
    "def get_formatted_name(first, middle, last):\n",
    "    full_name = f'{first} {middle} {last}'\n",
    "    return full_name"
   ]
  },
  {
   "cell_type": "markdown",
   "metadata": {},
   "source": [
    "&emsp;This version should work for people with middle names, but when we test it, we see that we’ve broken the function for people with just a first and last name.\n",
    "&emsp;When a test fails, **don’t change the test**. Instead, fix the code that caused the test to fail."
   ]
  },
  {
   "cell_type": "markdown",
   "metadata": {},
   "source": [
    "&emsp;The best option here is to make the middle name optional. Once we do, our test for names like Janis Joplin should pass again, and we should be able to accept middle names as well. Let’s modify **get_formatted_name()**. If it passes, we’ll move on to making sure the function handles middle names properly."
   ]
  },
  {
   "cell_type": "markdown",
   "metadata": {},
   "source": [
    "### Adding New Tests"
   ]
  },
  {
   "cell_type": "markdown",
   "metadata": {},
   "source": [
    "&emsp;Now that we know get_formatted_name() works for simple names again, let’s write a second test for people who include a middle name"
   ]
  },
  {
   "cell_type": "code",
   "execution_count": 5,
   "metadata": {},
   "outputs": [],
   "source": [
    "import unittest\n",
    "# from name_function import get_formatted_name  # descomentar esta linha\n",
    "\n",
    "class NamesTestCase(unittest.TestCase):\n",
    "    def test_first_last_name(self):\n",
    "        \"\"\"Do names like 'Janis Joplin work?'\"\"\"\n",
    "        formatted_name = get_formatted_name('janis', 'joplin')\n",
    "        self.assertEqual(formatted_name, 'Janis Joplin')\n",
    "        \n",
    "    def test_first_last_middle_name(self):\n",
    "        \"\"\"Do names like Wolfgang Amadeus Mozart' work?\"\"\"\n",
    "        formatted_name = get_formatted_name('wolfgang', 'mozart', 'amadeus')\n",
    "        self.assertEqual(formatted_name, 'Wolfgang Amadeus Mozart')\n",
    "\n",
    "#unittest.main() # descomentar esta linha, aqui no notebook dá erro."
   ]
  },
  {
   "cell_type": "markdown",
   "metadata": {},
   "source": [
    "# Testing a Class"
   ]
  },
  {
   "cell_type": "markdown",
   "metadata": {},
   "source": [
    "&emsp;Testing a class is similar to testing a function—much of your work involves testing the behavior of the methods in the class. But there are a few differences.\n",
    "\n",
    "---"
   ]
  },
  {
   "cell_type": "markdown",
   "metadata": {},
   "source": [
    "*filename = survey.py*"
   ]
  },
  {
   "cell_type": "code",
   "execution_count": 2,
   "metadata": {},
   "outputs": [],
   "source": [
    "class AnonymousSurvey():\n",
    "    \"\"\"Collect anonymous answer to a survey question.\"\"\"\n",
    "    def __init__(self, question):\n",
    "        self.question = question\n",
    "        self.responses = []\n",
    "        \n",
    "    def show_question(self):\n",
    "        print(question)\n",
    "    \n",
    "    def store_response(self, new_response):\n",
    "        self.responses.append(new_response)\n",
    "        \n",
    "    def show_results(self):\n",
    "        print(\"Survey results:\")\n",
    "        for response in self.responses:\n",
    "            print(f' {response}')"
   ]
  },
  {
   "cell_type": "markdown",
   "metadata": {},
   "source": [
    "---\n",
    "&emsp;To show that the AnonymousSurvey class works, let’s write a program that uses the class:\n",
    "\n",
    "---"
   ]
  },
  {
   "cell_type": "code",
   "execution_count": 7,
   "metadata": {},
   "outputs": [],
   "source": [
    "question = \"What language did you first learn to speak?\"\n",
    "my_survey = AnonymousSurvey(question)"
   ]
  },
  {
   "cell_type": "code",
   "execution_count": 8,
   "metadata": {},
   "outputs": [
    {
     "name": "stdout",
     "output_type": "stream",
     "text": [
      "What language did you first learn to speak?\n",
      "Enter 'q' at any time to quit.\n",
      "\n"
     ]
    },
    {
     "name": "stdin",
     "output_type": "stream",
     "text": [
      "Language:  English\n",
      "Language:  Spanish\n",
      "Language:  English\n",
      "Language:  Mandarin\n",
      "Language:  q\n"
     ]
    }
   ],
   "source": [
    "my_survey.show_question()\n",
    "\n",
    "print(\"Enter 'q' at any time to quit.\\n\")\n",
    "\n",
    "while True:\n",
    "    response = input(\"Language: \")\n",
    "    if response == 'q':\n",
    "        break\n",
    "    my_survey.store_response(response)"
   ]
  },
  {
   "cell_type": "code",
   "execution_count": 9,
   "metadata": {},
   "outputs": [
    {
     "name": "stdout",
     "output_type": "stream",
     "text": [
      "\n",
      "Thank you to everyone who participated in the survey!\n",
      "Survey results:\n",
      " English\n",
      " Spanish\n",
      " English\n",
      " Mandarin\n"
     ]
    }
   ],
   "source": [
    "print(\"\\nThank you to everyone who participated in the survey!\")\n",
    "my_survey.show_results()"
   ]
  },
  {
   "cell_type": "markdown",
   "metadata": {},
   "source": [
    "---\n",
    "&emsp;This class works for a simple anonymous survey. But let’s say we want to improve AnonymousSurvey and the module it’s in, survey. We could allow each user to enter more than one response. We could write a method to list only unique responses and to report how many times each response was given.\n",
    "&emsp;We could write another class to manage nonanonymous surveys."
   ]
  },
  {
   "cell_type": "markdown",
   "metadata": {},
   "source": [
    "&emsp;We’ll write a test to verify that a single response to the survey question is stored properly. We’ll use the **assertIn()** method to verify that the response is in the list of responses after it’s been stored:"
   ]
  },
  {
   "cell_type": "markdown",
   "metadata": {},
   "source": [
    "*filename = test_survey.py*"
   ]
  },
  {
   "cell_type": "code",
   "execution_count": 7,
   "metadata": {},
   "outputs": [],
   "source": [
    "import unittest\n",
    "#from survey import AnonymousSurvey\n",
    "\n",
    "\n",
    "class TestAnonymousSurvey(unittest.TestCase):\n",
    "    def test_store_singles_response(self):\n",
    "        question = \"What language did you first learn to speak?\"\n",
    "        my_survey = AnonymousSurvey(question)\n",
    "        my_survey.store_response('English')\n",
    "        \n",
    "        self.assertIn('English', my_survey.responses)\n",
    "        \n",
    "#unittest.main()"
   ]
  },
  {
   "cell_type": "markdown",
   "metadata": {},
   "source": [
    "---\n",
    "&emsp;This is good, but a survey is useful only if it generates more than one response. Let’s verify that three responses can be stored correctly. To do this, we add another method to TestAnonymousSurvey:\n",
    "\n",
    "---"
   ]
  },
  {
   "cell_type": "code",
   "execution_count": 6,
   "metadata": {},
   "outputs": [],
   "source": [
    "import unittest\n",
    "#from survey import AnonymousSurvey\n",
    "\n",
    "\n",
    "class TestAnonymousSurvey(unittest.TestCase):\n",
    "    def test_store_singles_response(self):\n",
    "        question = \"What language did you first learn to speak?\"\n",
    "        my_survey = AnonymousSurvey(question)\n",
    "        my_survey.store_response('English')\n",
    "        \n",
    "        self.assertIn('English', my_survey.responses)\n",
    "        \n",
    "    def test_store_three_responses(self):\n",
    "        question = \"What language did you first learn to speak?\"\n",
    "        my_survey = AnonymousSurvey(question)\n",
    "        responses = ['English', 'Spanish', 'Mandarin']\n",
    "        for response in responses:\n",
    "            my_survey.store_response(response)\n",
    "        \n",
    "        self.assertIn('English', my_survey.responses)\n",
    "        \n",
    "#unittest.main()"
   ]
  },
  {
   "cell_type": "markdown",
   "metadata": {},
   "source": [
    "&emsp; This works perfectly. However, these tests are a bit repetitive, so we’ll use another feature of unittest to make them more efficient."
   ]
  },
  {
   "cell_type": "markdown",
   "metadata": {},
   "source": [
    "### The setUp() Method"
   ]
  },
  {
   "cell_type": "markdown",
   "metadata": {},
   "source": [
    "&emsp; In test_survey.py we created a new instance of AnonymousSurvey in each test method, and we created new responses in each method. The unittest.TestCase class has a setUp() method that allows you to create these objects once and then use them in each of your test methods. When you include a setUp() method in a TestCase class, Python runs the setUp() method before running each method starting with test_. Any objects created in the setUp() method are then available in each test method you write."
   ]
  },
  {
   "cell_type": "code",
   "execution_count": 10,
   "metadata": {},
   "outputs": [],
   "source": [
    "import unittest\n",
    "#from survey import AnonymousSurvey\n",
    "\n",
    "\n",
    "class TestAnonymousSurvey(unittest.TestCase):\n",
    "    \n",
    "    def setUp(self):\n",
    "        \"\"\"Create a survey and a set of responses for use in all test methods.\"\"\"\n",
    "        question = \"What language did you first learn to speak?\"\n",
    "        self.my_survey = AnonymousSurvey(question)\n",
    "        self.responses = ['English', 'Spanish', 'Mandarin']\n",
    "        \n",
    "    def test_store_singles_response(self):\n",
    "        self.my_survey.store_response(self.responses[0])\n",
    "        self.assertIn(self.responses[0], self.my_survey.responses)\n",
    "        \n",
    "    def test_store_three_responses(self):\n",
    "        for response in self.responses:\n",
    "            self.my_survey.store_response(response)\n",
    "        for response in self.responses:\n",
    "            self.assertIn(response, self.my_survey.responses)\n",
    "        \n",
    "#unittest.main()"
   ]
  }
 ],
 "metadata": {
  "kernelspec": {
   "display_name": "Python 3",
   "language": "python",
   "name": "python3"
  },
  "language_info": {
   "codemirror_mode": {
    "name": "ipython",
    "version": 3
   },
   "file_extension": ".py",
   "mimetype": "text/x-python",
   "name": "python",
   "nbconvert_exporter": "python",
   "pygments_lexer": "ipython3",
   "version": "3.8.3"
  }
 },
 "nbformat": 4,
 "nbformat_minor": 4
}
