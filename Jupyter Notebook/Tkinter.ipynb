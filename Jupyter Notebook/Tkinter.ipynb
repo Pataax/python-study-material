{
 "cells": [
  {
   "cell_type": "markdown",
   "metadata": {},
   "source": [
    "# Dropdown Menu"
   ]
  },
  {
   "cell_type": "markdown",
   "metadata": {},
   "source": [
    "### *Binding dropdown menus*\n",
    "---"
   ]
  },
  {
   "cell_type": "code",
   "execution_count": 22,
   "metadata": {},
   "outputs": [],
   "source": [
    "from tkinter import *\n",
    "\n",
    "root = Tk()\n",
    "root.wm_geometry(\"400x400\")\n",
    "\n",
    "def selected(event):\n",
    "    \"\"\"Reconhece automaticamente o valor do menu\"\"\"\n",
    "    if clicked.get() == \"friday\":\n",
    "        myLabel = Label(root, text = \"It's friday!\").pack()\n",
    "    else:\n",
    "        myLabel = Label(root, text = clicked.get()).pack()\n",
    "         \n",
    "    \n",
    "options = [\"monday\", \"tuesday\", \"wednsday\", \"thursday\", \"friday\", \"saturday\", \"sunday\"]\n",
    "\n",
    "clicked = StringVar()\n",
    "clicked.set(options[0])  # setar o valor inicial do menu\n",
    "\n",
    "drop = OptionMenu(root, clicked, *options, command = selected).pack()\n",
    "\n",
    "\n",
    "root.mainloop()"
   ]
  },
  {
   "cell_type": "markdown",
   "metadata": {},
   "source": [
    "# ComboBox"
   ]
  },
  {
   "cell_type": "markdown",
   "metadata": {},
   "source": [
    "### *Binding combobox menus*\n",
    "---"
   ]
  },
  {
   "cell_type": "code",
   "execution_count": 45,
   "metadata": {},
   "outputs": [],
   "source": [
    "from tkinter import *\n",
    "from tkinter import ttk\n",
    "\n",
    "root = Tk()\n",
    "root.wm_geometry(\"400x400\")\n",
    "\n",
    "def combo_click(event):\n",
    "    \"\"\"Reconhece automaticamente o valor do combo box\"\"\"\n",
    "    if my_combo.get() == \"friday\":\n",
    "        myLabel = Label(root, text = \"It's friday!\").pack()\n",
    "    else:\n",
    "        myLabel = Label(root, text = my_combo.get()).pack()\n",
    "        \n",
    "     \n",
    "options = [\"monday\", \"tuesday\", \"wednsday\", \"thursday\", \"friday\", \"saturday\", \"sunday\"]\n",
    "\n",
    "\n",
    "my_combo = ttk.Combobox(root, value = options)\n",
    "my_combo.current(0)\n",
    "my_combo.bind(\"<<ComboboxSelected>>\", combo_click)  # evento de selecao\n",
    "my_combo.pack()  # No caso do combo box, o .pack() tem que estar por ultimo\n",
    "\n",
    "root.mainloop()"
   ]
  },
  {
   "cell_type": "markdown",
   "metadata": {},
   "source": [
    "# Menu Bars\n",
    "---"
   ]
  },
  {
   "cell_type": "code",
   "execution_count": 12,
   "metadata": {},
   "outputs": [],
   "source": [
    "from tkinter import *\n",
    "\n",
    "root = Tk()\n",
    "root.geometry(\"300x300\")\n",
    "\n",
    "my_menu = Menu(root)\n",
    "root.config(menu = my_menu)\n",
    "\n",
    "\n",
    "# click command\n",
    "def our_command():\n",
    "    my_label = Label(root, text = \"You clicked a dropdwon menu!\").pack()\n",
    "\n",
    "# create a menu file\n",
    "file_menu = Menu(my_menu)\n",
    "my_menu.add_cascade(label = \"File\", menu = file_menu)\n",
    "file_menu.add_command(label = \"New\", command = our_command)\n",
    "file_menu.add_separator()\n",
    "file_menu.add_command(label = \"Exit\", command = root.quit)  # fecha a janela\n",
    "\n",
    "# create a menu edit\n",
    "edit_menu = Menu(my_menu)\n",
    "my_menu.add_cascade(label = \"Edit\", menu = edit_menu)\n",
    "edit_menu.add_command(label = \"Copy\", command = our_command)\n",
    "edit_menu.add_command(label = \"Paste\", command = our_command)  # fecha a janela\n",
    "\n",
    "\n",
    "root.mainloop()"
   ]
  },
  {
   "cell_type": "code",
   "execution_count": null,
   "metadata": {},
   "outputs": [],
   "source": []
  }
 ],
 "metadata": {
  "kernelspec": {
   "display_name": "Python 3",
   "language": "python",
   "name": "python3"
  },
  "language_info": {
   "codemirror_mode": {
    "name": "ipython",
    "version": 3
   },
   "file_extension": ".py",
   "mimetype": "text/x-python",
   "name": "python",
   "nbconvert_exporter": "python",
   "pygments_lexer": "ipython3",
   "version": "3.8.3"
  }
 },
 "nbformat": 4,
 "nbformat_minor": 4
}
