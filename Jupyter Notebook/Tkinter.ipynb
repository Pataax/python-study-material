{
 "cells": [
  {
   "cell_type": "markdown",
   "metadata": {},
   "source": [
    "Observação: Não deve-se utlizar .pack() e .grid() nas mesma linha em que o objeto foi definido."
   ]
  },
  {
   "cell_type": "markdown",
   "metadata": {},
   "source": [
    "# Buttons"
   ]
  },
  {
   "cell_type": "code",
   "execution_count": 60,
   "metadata": {},
   "outputs": [],
   "source": [
    "from tkinter import *\n",
    "\n",
    "\n",
    "def my_click():\n",
    "    my_label = Label(root, text = \"Look! I clicked a button!\")\n",
    "    my_label.pack()\n",
    "\n",
    "\n",
    "root = Tk()\n",
    "root.wm_geometry(\"400x400\")\n",
    "root.title(\"Titulo da janela\")\n",
    "\n",
    "my_button = Button(root, \n",
    "                   text = \"Click Me!\",\n",
    "                   padx = 10,\n",
    "                   pady = 10,\n",
    "                   command = my_click,    \n",
    "                   # se colocar os parentes na função, executa a ação na abertura da janela                         automaticamente e não consegue executar de novo ao clicar no botao\n",
    "                   fg = 'blue',\n",
    "                   bg = '#ff0000'  # pode ser\n",
    "                   )\n",
    "my_button.pack()\n",
    "\n",
    "\n",
    "root.mainloop()"
   ]
  },
  {
   "cell_type": "markdown",
   "metadata": {},
   "source": [
    "# Input Fields (Entry)"
   ]
  },
  {
   "cell_type": "code",
   "execution_count": 61,
   "metadata": {
    "tags": []
   },
   "outputs": [],
   "source": [
    "from tkinter import * \n",
    "\n",
    "\n",
    "def my_click():\n",
    "    greeting = f'Hello, {e.get()}!'\n",
    "    my_label = Label(root, text = greeting)\n",
    "    my_label.pack() \n",
    "\n",
    "\n",
    "root = Tk()\n",
    "root.wm_geometry(\"400x400\")\n",
    "root.title(\"Titulo da janela\")\n",
    "\n",
    "e = Entry(root,\n",
    "          width = 50,\n",
    "          bg = 'gray',\n",
    "          fg = 'white',\n",
    "          borderwidth = 3\n",
    "          )\n",
    "e.pack()\n",
    "e.insert(0, \"Enter your name: \")  # posicao onde o valor será inserido, END = posicao final\n",
    "\n",
    "my_button = Button(root, text = \"Click Me!\", command = my_click).pack()\n",
    "\n",
    "\n",
    "root.mainloop()"
   ]
  },
  {
   "cell_type": "markdown",
   "metadata": {},
   "source": [
    "# Checkboxes"
   ]
  },
  {
   "cell_type": "code",
   "execution_count": 67,
   "metadata": {},
   "outputs": [],
   "source": [
    "from tkinter import * \n",
    "\n",
    "\n",
    "def show():\n",
    "    my_label = Label(root, text = var.get())\n",
    "    my_label.pack()\n",
    "\n",
    "\n",
    "root = Tk()\n",
    "root.wm_geometry(\"400x400\")\n",
    "root.title(\"Titulo da janela\")\n",
    "\n",
    "# var = IntVar()  # retorna 0 ou 1\n",
    "var = StringVar()  # retornar o texto definido em onvalue e offvalue\n",
    "my_checkbox = Checkbutton(root, \n",
    "                          text = \"Check this box. I dare you!\", \n",
    "                          variable = var,\n",
    "                          onvalue = \"on\",\n",
    "                          offvalue = \"off\")\n",
    "# detalhe para evitar glitch onde o checkbox inicia selecionado e não responde à função\n",
    "my_checkbox.deselect()  \n",
    "my_checkbox.pack()\n",
    "\n",
    "my_button = Button(root, text = \"Show selection\", command = show)\n",
    "my_button.pack()\n",
    "\n",
    "\n",
    "root.mainloop()"
   ]
  },
  {
   "cell_type": "markdown",
   "metadata": {},
   "source": [
    "# Frames"
   ]
  },
  {
   "cell_type": "code",
   "execution_count": 1,
   "metadata": {},
   "outputs": [],
   "source": [
    "from tkinter import * \n",
    "\n",
    "\n",
    "root = Tk()\n",
    "root.title(\"Titulo da janela\")\n",
    "\n",
    "my_frame = LabelFrame(root, \n",
    "                      text = \"This is my frame\", \n",
    "                      padx = 50, \n",
    "                      pady = 50\n",
    "                      )\n",
    "my_frame.pack(padx = 10, pady = 10)\n",
    "\n",
    "my_button_1 = Button(my_frame, text = \"Don't click here!...\")\n",
    "my_button_2 = Button(my_frame, text = \"...or here!\")\n",
    "\n",
    "my_button_1.grid(row = 0, column = 0)\n",
    "my_button_2.grid(row = 1, column = 1)\n",
    "\n",
    "\n",
    "root.mainloop()"
   ]
  },
  {
   "cell_type": "markdown",
   "metadata": {},
   "source": [
    "# Radio Buttons"
   ]
  },
  {
   "cell_type": "code",
   "execution_count": 23,
   "metadata": {},
   "outputs": [],
   "source": [
    "from tkinter import * \n",
    "\n",
    "\n",
    "def selected(value):\n",
    "    my_label = Label(root, text = value)\n",
    "    my_label.pack()\n",
    "\n",
    "\n",
    "root = Tk()\n",
    "root.title(\"Titulo da janela\")\n",
    "\n",
    "var = IntVar()\n",
    "var.set(1)  # define qual radiobutton iniciará selecionado\n",
    "my_radio_button_1 = Radiobutton(root, text = \"Option 1\", variable = var, \n",
    "                                value = 1, command = lambda: selected(var.get()))\n",
    "my_radio_button_2 = Radiobutton(root, text = \"Option 2\", variable = var, \n",
    "                                value = 2, command = lambda: selected(var.get()))\n",
    "my_radio_button_1.pack()\n",
    "my_radio_button_2.pack()\n",
    "\n",
    "my_label = Label(root, text = var.get())\n",
    "my_label.pack()\n",
    "\n",
    "\n",
    "root.mainloop()"
   ]
  },
  {
   "cell_type": "markdown",
   "metadata": {},
   "source": [
    "# Message Boxes"
   ]
  },
  {
   "cell_type": "code",
   "execution_count": 34,
   "metadata": {
    "tags": []
   },
   "outputs": [],
   "source": [
    "from tkinter import * \n",
    "from tkinter import messagebox\n",
    "\n",
    "\n",
    "def popup(type):\n",
    "    if type == \"info\":\n",
    "        response = messagebox.showinfo(\"This is my popup!\", \"Hello World!\")\n",
    "    elif type == \"warning\":\n",
    "        response = messagebox.showwarning(\"This is my popup!\", \"Hello World!\")\n",
    "    elif type == \"error\":\n",
    "        response = messagebox.showerror(\"This is my popup!\", \"Hello World!\")\n",
    "    elif type == \"askquestion\":\n",
    "        response = messagebox.askquestion(\"This is my popup!\", \"Hello World!\")\n",
    "    elif type == \"askokcancel\":\n",
    "        response = messagebox.askokcancel(\"This is my popup!\", \"Hello World!\")\n",
    "    else:\n",
    "        response = messagebox.askyesno(\"This is my popup!\", \"Hello World!\")\n",
    "    \n",
    "    my_label = Label(root, text = response)\n",
    "    my_label.pack()\n",
    "\n",
    "\n",
    "root = Tk()\n",
    "root.title(\"Titulo da janela\")\n",
    "\n",
    "my_button_show_info = Button(root, text = \"Popup Showinfo\", command = lambda: popup(\"info\"))\n",
    "my_button_show_warning = Button(root, text = \"Popup Showwarning\", command = lambda: popup(\"warning\"))\n",
    "my_button_show_error = Button(root, text = \"Popup Showerror\", command = lambda: popup(\"error\"))\n",
    "my_button_show_askquestion = Button(root, text = \"Popup Showaskquestion\", command = lambda: popup(\"askquestion\"))\n",
    "my_button_show_askokcancel = Button(root, text = \"Popup Showaskokcancel\", command = lambda: popup(\"askokcancel\"))\n",
    "my_button_show_askyesno = Button(root, text = \"Popup Showaskyesno\", command = lambda: popup(\"askyesno\"))\n",
    "my_button_show_info.pack(padx = 10, pady = 5, anchor = W)\n",
    "my_button_show_warning.pack(padx = 10, pady = 5, anchor = W)\n",
    "my_button_show_error.pack(padx = 10, pady = 5, anchor = W)\n",
    "my_button_show_askquestion.pack(padx = 10, pady = 5, anchor = W)\n",
    "my_button_show_askokcancel.pack(padx = 10, pady = 5, anchor = W)\n",
    "my_button_show_askyesno.pack(padx = 10, pady = 5, anchor = W)\n",
    "\n",
    "\n",
    "root.mainloop()"
   ]
  },
  {
   "cell_type": "markdown",
   "metadata": {},
   "source": [
    "# Create New Windows"
   ]
  },
  {
   "cell_type": "code",
   "execution_count": 39,
   "metadata": {},
   "outputs": [],
   "source": [
    "from tkinter import * \n",
    "\n",
    "\n",
    "def open_second_window():\n",
    "    new_window = Toplevel()\n",
    "    new_window.title(\"Second Window\")\n",
    "    new_window.wm_geometry(\"300x100\")\n",
    "\n",
    "    close_button = Button(new_window, text = \"Close second window\", command = new_window.destroy)\n",
    "    close_button.pack()\n",
    "\n",
    "\n",
    "root = Tk()\n",
    "root.title(\"First Window\")\n",
    "\n",
    "my_button = Button(root, text = \"Open second window\", command = open_second_window)\n",
    "my_button.pack(padx = 10, pady = 10)\n",
    "\n",
    "\n",
    "root.mainloop()"
   ]
  },
  {
   "cell_type": "markdown",
   "metadata": {},
   "source": [
    "# Dropdown Menus"
   ]
  },
  {
   "cell_type": "markdown",
   "metadata": {},
   "source": [
    "### *Binding dropdown menus*\n",
    "---"
   ]
  },
  {
   "cell_type": "code",
   "execution_count": 2,
   "metadata": {},
   "outputs": [],
   "source": [
    "from tkinter import *\n",
    "\n",
    "root = Tk()\n",
    "root.wm_geometry(\"400x400\")\n",
    "\n",
    "def selected(event):\n",
    "    \"\"\"Reconhece automaticamente o valor do menu\"\"\"\n",
    "    if clicked.get() == \"friday\":\n",
    "        myLabel = Label(root, text = \"It's friday!\")\n",
    "        my_label.pack()\n",
    "    else:\n",
    "        myLabel = Label(root, text = clicked.get())\n",
    "        my_label.pack()\n",
    "         \n",
    "    \n",
    "options = [\"monday\", \"tuesday\", \"wednsday\", \"thursday\", \"friday\", \"saturday\", \"sunday\"]\n",
    "\n",
    "clicked = StringVar()\n",
    "clicked.set(options[0])  # setar o valor inicial do menu\n",
    "\n",
    "drop = OptionMenu(root, clicked, *options, command = selected)\n",
    "drop.pack()\n",
    "\n",
    "\n",
    "root.mainloop()"
   ]
  },
  {
   "cell_type": "markdown",
   "metadata": {},
   "source": [
    "# ComboBox"
   ]
  },
  {
   "cell_type": "markdown",
   "metadata": {},
   "source": [
    "### *Binding combobox menus*\n",
    "---"
   ]
  },
  {
   "cell_type": "code",
   "execution_count": 45,
   "metadata": {},
   "outputs": [],
   "source": [
    "from tkinter import *\n",
    "from tkinter import ttk\n",
    "\n",
    "root = Tk()\n",
    "root.wm_geometry(\"400x400\")\n",
    "\n",
    "def combo_click(event):\n",
    "    \"\"\"Reconhece automaticamente o valor do combo box\"\"\"\n",
    "    if my_combo.get() == \"friday\":\n",
    "        myLabel = Label(root, text = \"It's friday!\")\n",
    "        my_label.pack()\n",
    "    else:\n",
    "        myLabel = Label(root, text = my_combo.get())\n",
    "        my_label.pack()\n",
    "        \n",
    "     \n",
    "options = [\"monday\", \"tuesday\", \"wednsday\", \"thursday\", \"friday\", \"saturday\", \"sunday\"]\n",
    "\n",
    "\n",
    "my_combo = ttk.Combobox(root, value = options)\n",
    "my_combo.current(0)\n",
    "my_combo.bind(\"<<ComboboxSelected>>\", combo_click)  # evento de selecao\n",
    "my_combo.pack()  # No caso do combo box, o .pack() tem que estar por ultimo\n",
    "\n",
    "root.mainloop()"
   ]
  },
  {
   "cell_type": "markdown",
   "metadata": {},
   "source": [
    "# Menu Bars\n",
    "---"
   ]
  },
  {
   "cell_type": "code",
   "execution_count": 3,
   "metadata": {},
   "outputs": [],
   "source": [
    "from tkinter import *\n",
    "\n",
    "root = Tk()\n",
    "root.geometry(\"300x300\")\n",
    "\n",
    "my_menu = Menu(root)\n",
    "root.config(menu = my_menu)\n",
    "\n",
    "\n",
    "# click command\n",
    "def our_command():\n",
    "    my_label = Label(root, text = \"You clicked a dropdwon menu!\")\n",
    "    my_label.pack()\n",
    "\n",
    "# create a menu file\n",
    "file_menu = Menu(my_menu)\n",
    "my_menu.add_cascade(label = \"File\", menu = file_menu)\n",
    "file_menu.add_command(label = \"New\", command = our_command)\n",
    "file_menu.add_separator()\n",
    "file_menu.add_command(label = \"Exit\", command = root.quit)  # fecha a janela\n",
    "\n",
    "# create a menu edit\n",
    "edit_menu = Menu(my_menu)\n",
    "my_menu.add_cascade(label = \"Edit\", menu = edit_menu)\n",
    "edit_menu.add_command(label = \"Copy\", command = our_command)\n",
    "edit_menu.add_command(label = \"Paste\", command = our_command)  # fecha a janela\n",
    "\n",
    "\n",
    "root.mainloop()"
   ]
  },
  {
   "cell_type": "markdown",
   "metadata": {},
   "source": [
    "# Status Bar"
   ]
  },
  {
   "cell_type": "code",
   "execution_count": 16,
   "metadata": {},
   "outputs": [],
   "source": [
    "from tkinter import * \n",
    "\n",
    "\n",
    "root = Tk()\n",
    "# root.wm_geometry(\"300x300\")\n",
    "root.title(\"Titulo da janela\")\n",
    "\n",
    "image = Frame(root, width = 500, height = 500, bg = 'red')\n",
    "image.grid(row = 1, column = 1, padx = 5, pady = 5)\n",
    "\n",
    "status_bar = Label(\n",
    "                   root, \n",
    "                   text = \"status bar\",\n",
    "                   borderwidth = 1,  # espessura da borda\n",
    "                   relief = 'sunken',  # tipo da borda\n",
    "                   anchor = E  # alinhar no canto direito\n",
    "                   )\n",
    "status_bar.grid(row = 2, \n",
    "                column = 1, \n",
    "                padx = 5,\n",
    "                pady = 5,\n",
    "                sticky = W+E,  # esticar a barra de tarefas por toda a larguda da janela\n",
    "                )\n",
    "\n",
    "root.mainloop()"
   ]
  },
  {
   "cell_type": "code",
   "execution_count": null,
   "metadata": {},
   "outputs": [],
   "source": []
  }
 ],
 "metadata": {
  "kernelspec": {
   "display_name": "Python 3",
   "language": "python",
   "name": "python3"
  },
  "language_info": {
   "codemirror_mode": {
    "name": "ipython",
    "version": 3
   },
   "file_extension": ".py",
   "mimetype": "text/x-python",
   "name": "python",
   "nbconvert_exporter": "python",
   "pygments_lexer": "ipython3",
   "version": "3.8.3"
  }
 },
 "nbformat": 4,
 "nbformat_minor": 4
}