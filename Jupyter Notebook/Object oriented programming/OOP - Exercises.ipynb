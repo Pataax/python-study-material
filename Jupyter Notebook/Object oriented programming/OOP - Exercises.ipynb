{
 "cells": [
  {
   "cell_type": "markdown",
   "metadata": {},
   "source": [
    "# Exercises"
   ]
  },
  {
   "cell_type": "markdown",
   "metadata": {},
   "source": [
    "**Restaurant:**\n",
    "1. Make a class called Restaurant. The __init__() method for Restaurant should store two attributes: a restaurant_name and a cuisine_type.\n",
    "2. Make a method called describe_restaurant() that prints these two pieces of information, and a method called open_restaurant() that prints a message indicating that the restaurant is open.\n",
    "3. Make an instance called restaurant from your class. Print the two attributes individually, and then call both methods.\n",
    "\n",
    "Number Served:\n",
    "1. Start with your class Restaurant. Add an attribute called number_served with a default value of 0. \n",
    "2. Print the number of customers the restaurant has served.\n",
    "3. Add a method called increment_number_served() that lets you increment the number of customers who’ve been served. \n",
    "4. Call this method with any number you like that could represent how many customers were served in, say, a day of business.\n",
    "\n",
    "Ice Cream Stand:\n",
    "&emsp;\n",
    "1. Write a class called IceCreamStand that inherits from the Restaurant class you wrote.\n",
    "2. Add an attribute called flavors that stores a list of ice cream flavors. \n",
    "3. Write a method that displays these flavors.\n",
    "4. Create an instance of IceCreamStand, and call this method.\n",
    "---"
   ]
  },
  {
   "cell_type": "markdown",
   "metadata": {},
   "source": [
    "<br>"
   ]
  },
  {
   "cell_type": "code",
   "execution_count": 1,
   "metadata": {},
   "outputs": [],
   "source": [
    "class Restaurant():\n",
    "    def __init__(self, restaurant_name, cuisine_type):\n",
    "        self.restaurant_name = restaurant_name\n",
    "        self.cuisine_type = cuisine_type\n",
    "        self.number_served = 0\n",
    "\n",
    "    def describe_restaurant(self):\n",
    "        print(f'Restaurant Name: {self.restaurant_name}\\n'\n",
    "              f'Cuisine Type: {self.cuisine_type}')\n",
    "        \n",
    "    def open_restaurant(self):\n",
    "        print(f'The restaurant {self.restaurant_name} is open!')\n",
    "        \n",
    "    def increment_number_served(self, order):\n",
    "        if order > 0: \n",
    "            self.number_served += order\n",
    "        else:\n",
    "            print(\"You can't decrese the number orders\")"
   ]
  },
  {
   "cell_type": "code",
   "execution_count": 2,
   "metadata": {},
   "outputs": [],
   "source": [
    "class IceCreamStand(Restaurant):\n",
    "    def __init__(self, restaurant_name, cuisine_type):\n",
    "        super().__init__(restaurant_name, cuisine_type)\n",
    "        self.flavors = ['Chocolate', 'Strawberry', 'Vanila']\n",
    "        \n",
    "    def display_flavors(self):\n",
    "        print(f'List of flavors: {self.flavors}')"
   ]
  },
  {
   "cell_type": "markdown",
   "metadata": {},
   "source": [
    "<br>"
   ]
  },
  {
   "cell_type": "code",
   "execution_count": 3,
   "metadata": {},
   "outputs": [
    {
     "name": "stdout",
     "output_type": "stream",
     "text": [
      "Restaurant Name: Porto Brasil\n",
      "Cuisine Type: Brazilian Food\n",
      "The restaurant Porto Brasil is open!\n",
      "Number of customers served: 0\n",
      "Number of customers served: 3\n"
     ]
    }
   ],
   "source": [
    "restaurant = Restaurant('Porto Brasil', 'Brazilian Food')\n",
    "restaurant.describe_restaurant()\n",
    "restaurant.open_restaurant()\n",
    "\n",
    "print(f'Number of customers served: {restaurant.number_served}')\n",
    "restaurant.increment_number_served(3)\n",
    "print(f'Number of customers served: {restaurant.number_served}')"
   ]
  },
  {
   "cell_type": "markdown",
   "metadata": {},
   "source": [
    "<br>"
   ]
  },
  {
   "cell_type": "code",
   "execution_count": 4,
   "metadata": {},
   "outputs": [
    {
     "name": "stdout",
     "output_type": "stream",
     "text": [
      "List of flavors: ['Chocolate', 'Strawberry', 'Vanila']\n"
     ]
    }
   ],
   "source": [
    "ice_cream_stand = IceCreamStand('Gelatto', 'Sweetened Frozen Food')\n",
    "ice_cream_stand.display_flavors()"
   ]
  },
  {
   "cell_type": "markdown",
   "metadata": {},
   "source": [
    "<br>"
   ]
  },
  {
   "cell_type": "markdown",
   "metadata": {},
   "source": [
    "---\n",
    "**Users:**\n",
    "1. Make a class called User. Create two attributes called first_name and last_name, and then create several other attributes that are typically stored in a user profile.<br> \n",
    "2. Make a method called describe_user() that prints a summary of the user’s information.\n",
    "3. Make another method called greet_user() that prints a personalized greeting to the user.\n",
    "4. Create several instances representing different users, and call both methods for each user.\n",
    "\n",
    "Login Attempts:\n",
    "1. Add an attribute called login_attempts to your User class.\n",
    "2. Write a method called increment_login_attempts() that increments the value of login_attempts by 1. \n",
    "3. Write another method called reset_login_attempts() that resets the value of login_attempts to 0.\n",
    "4. Make an instance of the User class and call increment_login_attempts() several times. Print the value of login_attempts to make sure it was incremented properly, and then call reset_login_attempts(). Print login_attempts again to make sure it was reset to 0.\n",
    "\n",
    "Admin: An administrator is a special kind of user. \n",
    "1. Write a class called Admin that inherits from the User class.\n",
    "\n",
    "Privileges: \n",
    "1. Write a separate Privileges class. The class should have one attribute, privileges, that stores a list of strings like \"can add post\", \"can delete post\", \"can ban user\", and so on.\n",
    "2. Write a method called show_privileges() that lists the administrator’s set of privileges. \n",
    "3. Create an instance of Admin, and call your method.\n",
    "4. Make a Privileges instance as an attribute in the Admin class. \n",
    "5. Create a new instance of Admin and use your method to show its privileges.\n",
    "\n",
    "---"
   ]
  },
  {
   "cell_type": "markdown",
   "metadata": {},
   "source": [
    "<br>"
   ]
  },
  {
   "cell_type": "code",
   "execution_count": 5,
   "metadata": {},
   "outputs": [],
   "source": [
    "class User():\n",
    "    def __init__(self, first_name, last_name, age):\n",
    "        self.first_name = first_name\n",
    "        self.last_name = last_name\n",
    "        self.age = age\n",
    "        self.login_attempts = 0\n",
    "\n",
    "    def describe_user(self):\n",
    "        print(f'User name: {self.first_name} {self.last_name}\\n'\n",
    "              f'User age: {self.age}')\n",
    "        \n",
    "    def increment_login_attempts(self):\n",
    "        self.login_attempts += 1\n",
    "    \n",
    "    def reset_login_attempts(self):\n",
    "        self.login_attempts = 0\n",
    "    \n",
    "    def greet_user(self):\n",
    "        print(f'Welcome Sir(Madam) {self.first_name} {self.last_name}!')"
   ]
  },
  {
   "cell_type": "code",
   "execution_count": 6,
   "metadata": {},
   "outputs": [],
   "source": [
    "class Admin(User):\n",
    "    def __init__(self, first_name, last_name, age):\n",
    "        super().__init__(first_name, last_name, age)\n",
    "        self.privileges = Privileges()"
   ]
  },
  {
   "cell_type": "code",
   "execution_count": 7,
   "metadata": {},
   "outputs": [],
   "source": [
    "class Privileges():\n",
    "    def __init__(self, privileges=['Can add post', 'Can delete post', 'Can ban user']):\n",
    "        self.privileges = privileges\n",
    "        \n",
    "    def show_privileges(self):\n",
    "        print(f'Admin privileges: {self.privileges}')"
   ]
  },
  {
   "cell_type": "markdown",
   "metadata": {},
   "source": [
    "<br>"
   ]
  },
  {
   "cell_type": "code",
   "execution_count": 8,
   "metadata": {},
   "outputs": [
    {
     "name": "stdout",
     "output_type": "stream",
     "text": [
      "User name: James Bond\n",
      "User age: 58\n",
      "Welcome Sir(Madam) James Bond!\n",
      "Login attempts: 0\n",
      "Login attempts: 1\n"
     ]
    }
   ],
   "source": [
    "user = User('James', 'Bond', 58)\n",
    "user.describe_user()\n",
    "user.greet_user()\n",
    "print(f'Login attempts: {user.login_attempts}')\n",
    "user.increment_login_attempts()\n",
    "print(f'Login attempts: {user.login_attempts}')"
   ]
  },
  {
   "cell_type": "markdown",
   "metadata": {},
   "source": [
    "<br>"
   ]
  },
  {
   "cell_type": "code",
   "execution_count": 9,
   "metadata": {},
   "outputs": [
    {
     "name": "stdout",
     "output_type": "stream",
     "text": [
      "Admin privileges: ['Can add post', 'Can delete post', 'Can ban user']\n"
     ]
    }
   ],
   "source": [
    "admin = Admin('Bill', 'Gates', 99)\n",
    "admin.privileges.show_privileges()"
   ]
  }
 ],
 "metadata": {
  "kernelspec": {
   "display_name": "Python 3",
   "language": "python",
   "name": "python3"
  },
  "language_info": {
   "codemirror_mode": {
    "name": "ipython",
    "version": 3
   },
   "file_extension": ".py",
   "mimetype": "text/x-python",
   "name": "python",
   "nbconvert_exporter": "python",
   "pygments_lexer": "ipython3",
   "version": "3.8.3"
  }
 },
 "nbformat": 4,
 "nbformat_minor": 4
}
