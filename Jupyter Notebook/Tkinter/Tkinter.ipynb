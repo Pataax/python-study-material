{
 "cells": [
  {
   "cell_type": "markdown",
   "metadata": {},
   "source": [
    "Observação: Não deve-se utlizar .pack() e .grid() nas mesma linha em que o objeto foi definido."
   ]
  },
  {
   "cell_type": "markdown",
   "metadata": {},
   "source": [
    "# Labels"
   ]
  },
  {
   "cell_type": "markdown",
   "metadata": {},
   "source": [
    "### Remove Labels"
   ]
  },
  {
   "cell_type": "code",
   "execution_count": 15,
   "metadata": {
    "tags": []
   },
   "outputs": [],
   "source": [
    "from tkinter import *\n",
    "\n",
    "\n",
    "def delete_label():\n",
    "    my_label.destroy()  # Não sei a diferença para .pack_forget()\n",
    "    add_label_button['state'] = 'normal'\n",
    "\n",
    "def add_label():\n",
    "    global my_label\n",
    "    greeting = f'Hello, {entry.get()}!'\n",
    "    my_label = Label(root, text = greeting)\n",
    "    entry.delete(0, END)\n",
    "    my_label.pack(pady = 10)\n",
    "    add_label_button['state'] = 'disabled'\n",
    "\n",
    "\n",
    "root = Tk()\n",
    "root.title(\"Titulo da janela\")\n",
    "\n",
    "entry = Entry(root, width = 50)\n",
    "entry.pack(padx = 10, pady = 10)\n",
    "\n",
    "add_label_button = Button(root, text = \"Add Label\", command = add_label)\n",
    "add_label_button.pack(pady = 10)\n",
    "\n",
    "delete_label_button = Button(root, text = \"Delete Label\", command = delete_label)\n",
    "delete_label_button.pack(pady = 10)\n",
    "\n",
    "\n",
    "root.mainloop()"
   ]
  },
  {
   "cell_type": "markdown",
   "metadata": {},
   "source": [
    "### Overwrite Grid Labels"
   ]
  },
  {
   "cell_type": "code",
   "execution_count": 31,
   "metadata": {
    "tags": []
   },
   "outputs": [],
   "source": [
    "from tkinter import *\n",
    "\n",
    "\n",
    "def add_label():\n",
    "    global my_label\n",
    "    my_label.destroy()  # deleta a label antiga antes de inserir a nova\n",
    "    \n",
    "    greeting = f'Hello, {entry.get()}!'\n",
    "    my_label = Label(root, text = greeting)\n",
    "    entry.delete(0, END)\n",
    "    my_label.grid(row = 3, column = 0, pady = 10)\n",
    "\n",
    "\n",
    "root = Tk()\n",
    "root.title(\"Titulo da janela\")\n",
    "\n",
    "entry = Entry(root, width = 50)\n",
    "entry.grid(row = 0, column = 0, padx = 10, pady = 10)\n",
    "\n",
    "my_label = Label(root)  # cria label vazia para ser usada na funcao add\n",
    "\n",
    "add_label_button = Button(root, text = \"Add Label\", command = add_label)\n",
    "add_label_button.grid(row = 1, column = 0, pady = 10)\n",
    "\n",
    "\n",
    "root.mainloop()"
   ]
  },
  {
   "cell_type": "markdown",
   "metadata": {},
   "source": [
    "### *Unicode Characters & Speical Characters*"
   ]
  },
  {
   "cell_type": "code",
   "execution_count": 35,
   "metadata": {},
   "outputs": [],
   "source": [
    "from tkinter import *\n",
    "\n",
    "\n",
    "root = Tk()\n",
    "root.title(\"Titulo da janela\")\n",
    "\n",
    "my_label = Label(root, font = ('Helvetica', 30), text = \"Unicode Character: \" + u'\\u00A9' + u' \\u00BB')\n",
    "my_label.pack(pady = 10)\n",
    "\n",
    "root.mainloop()"
   ]
  },
  {
   "cell_type": "markdown",
   "metadata": {},
   "source": [
    "# Buttons"
   ]
  },
  {
   "cell_type": "code",
   "execution_count": 46,
   "metadata": {},
   "outputs": [],
   "source": [
    "from tkinter import *\n",
    "\n",
    "\n",
    "def my_click():\n",
    "    my_label = Label(root, text = \"Look! I clicked a button!\")\n",
    "    my_label.pack()\n",
    "\n",
    "\n",
    "root = Tk()\n",
    "root.wm_geometry(\"400x400\")\n",
    "root.title(\"Titulo da janela\")\n",
    "\n",
    "my_button = Button(root, \n",
    "                   text = \"Click Me!\",\n",
    "                   padx = 10,\n",
    "                   pady = 10,\n",
    "                   command = my_click,    \n",
    "                   # se colocar os parentes na função, executa a ação na abertura da janela                         automaticamente e não consegue executar de novo ao clicar no botao\n",
    "                   fg = 'blue',\n",
    "                   bg = '#ff0000',  # pode ser\n",
    "                   #    state = 'disabled'\n",
    "                   )\n",
    "my_button.pack()\n",
    "\n",
    "\n",
    "root.mainloop()"
   ]
  },
  {
   "cell_type": "markdown",
   "metadata": {},
   "source": [
    "# Entry"
   ]
  },
  {
   "cell_type": "code",
   "execution_count": 4,
   "metadata": {
    "tags": []
   },
   "outputs": [],
   "source": [
    "from tkinter import * \n",
    "\n",
    "\n",
    "def my_click():\n",
    "    greeting = f'Hello, {my_entry.get()}!'\n",
    "    my_label = Label(root, text = greeting)\n",
    "    my_label.pack() \n",
    "\n",
    "\n",
    "root = Tk()\n",
    "root.wm_geometry(\"400x400\")\n",
    "root.title(\"Titulo da janela\")\n",
    "\n",
    "my_entry = Entry(root,\n",
    "          width = 50,\n",
    "          bg = 'gray',\n",
    "          fg = 'white',\n",
    "          borderwidth = 3,\n",
    "          font = ('Helvetica', 34)  \n",
    "          # Para alterar a altura da input box.\n",
    "          # Devemos alterar o tamanho da fonte.\n",
    "          )\n",
    "my_entry.pack(padx = 5, pady = 5)\n",
    "my_entry.insert(0, \"Enter your name: \")  # posicao onde o valor será inserido, END = posicao final\n",
    "\n",
    "my_button = Button(root, text = \"Click Me!\", command = my_click).pack()\n",
    "\n",
    "\n",
    "root.mainloop()"
   ]
  },
  {
   "cell_type": "markdown",
   "metadata": {},
   "source": [
    "# Radio Buttons"
   ]
  },
  {
   "cell_type": "code",
   "execution_count": 23,
   "metadata": {},
   "outputs": [],
   "source": [
    "from tkinter import * \n",
    "\n",
    "\n",
    "def selected(value):\n",
    "    my_label = Label(root, text = value)\n",
    "    my_label.pack()\n",
    "\n",
    "\n",
    "root = Tk()\n",
    "root.title(\"Titulo da janela\")\n",
    "\n",
    "var = IntVar()\n",
    "var.set(1)  # define qual radiobutton iniciará selecionado\n",
    "my_radio_button_1 = Radiobutton(root, text = \"Option 1\", variable = var, \n",
    "                                value = 1, command = lambda: selected(var.get()))\n",
    "my_radio_button_2 = Radiobutton(root, text = \"Option 2\", variable = var, \n",
    "                                value = 2, command = lambda: selected(var.get()))\n",
    "my_radio_button_1.pack()\n",
    "my_radio_button_2.pack()\n",
    "\n",
    "my_label = Label(root, text = var.get())\n",
    "my_label.pack()\n",
    "\n",
    "\n",
    "root.mainloop()"
   ]
  },
  {
   "cell_type": "markdown",
   "metadata": {},
   "source": [
    "# Message Boxes"
   ]
  },
  {
   "cell_type": "code",
   "execution_count": 34,
   "metadata": {
    "tags": []
   },
   "outputs": [],
   "source": [
    "from tkinter import * \n",
    "from tkinter import messagebox\n",
    "\n",
    "\n",
    "def popup(type):\n",
    "    if type == \"info\":\n",
    "        response = messagebox.showinfo(\"This is my popup!\", \"Hello World!\")\n",
    "    elif type == \"warning\":\n",
    "        response = messagebox.showwarning(\"This is my popup!\", \"Hello World!\")\n",
    "    elif type == \"error\":\n",
    "        response = messagebox.showerror(\"This is my popup!\", \"Hello World!\")\n",
    "    elif type == \"askquestion\":\n",
    "        response = messagebox.askquestion(\"This is my popup!\", \"Hello World!\")\n",
    "    elif type == \"askokcancel\":\n",
    "        response = messagebox.askokcancel(\"This is my popup!\", \"Hello World!\")\n",
    "    else:\n",
    "        response = messagebox.askyesno(\"This is my popup!\", \"Hello World!\")\n",
    "    \n",
    "    my_label = Label(root, text = response)\n",
    "    my_label.pack()\n",
    "\n",
    "\n",
    "root = Tk()\n",
    "root.title(\"Titulo da janela\")\n",
    "\n",
    "my_button_show_info = Button(root, text = \"Popup Showinfo\", command = lambda: popup(\"info\"))\n",
    "my_button_show_warning = Button(root, text = \"Popup Showwarning\", command = lambda: popup(\"warning\"))\n",
    "my_button_show_error = Button(root, text = \"Popup Showerror\", command = lambda: popup(\"error\"))\n",
    "my_button_show_askquestion = Button(root, text = \"Popup Showaskquestion\", command = lambda: popup(\"askquestion\"))\n",
    "my_button_show_askokcancel = Button(root, text = \"Popup Showaskokcancel\", command = lambda: popup(\"askokcancel\"))\n",
    "my_button_show_askyesno = Button(root, text = \"Popup Showaskyesno\", command = lambda: popup(\"askyesno\"))\n",
    "my_button_show_info.pack(padx = 10, pady = 5, anchor = W)\n",
    "my_button_show_warning.pack(padx = 10, pady = 5, anchor = W)\n",
    "my_button_show_error.pack(padx = 10, pady = 5, anchor = W)\n",
    "my_button_show_askquestion.pack(padx = 10, pady = 5, anchor = W)\n",
    "my_button_show_askokcancel.pack(padx = 10, pady = 5, anchor = W)\n",
    "my_button_show_askyesno.pack(padx = 10, pady = 5, anchor = W)\n",
    "\n",
    "\n",
    "root.mainloop()"
   ]
  },
  {
   "cell_type": "markdown",
   "metadata": {},
   "source": [
    "# Create New Windows"
   ]
  },
  {
   "cell_type": "code",
   "execution_count": 8,
   "metadata": {},
   "outputs": [],
   "source": [
    "from tkinter import * \n",
    "\n",
    "\n",
    "def open_second_window():\n",
    "    new_window = Toplevel()\n",
    "    new_window.title(\"Second Window\")\n",
    "    new_window.wm_geometry(\"300x100\")\n",
    "\n",
    "    close_button = Button(new_window, text = \"Close second window\", \n",
    "                          command = new_window.destroy)\n",
    "    close_button.pack(padx = 40, pady = 30)\n",
    "\n",
    "\n",
    "root = Tk()\n",
    "root.title(\"First Window\")\n",
    "\n",
    "my_button = Button(root, text = \"Open second window\", command = open_second_window)\n",
    "my_button.pack(padx = 40, pady = 40)\n",
    "\n",
    "\n",
    "root.mainloop()"
   ]
  },
  {
   "cell_type": "markdown",
   "metadata": {},
   "source": [
    "# Open File Dialog Box"
   ]
  },
  {
   "cell_type": "code",
   "execution_count": 49,
   "metadata": {
    "tags": []
   },
   "outputs": [],
   "source": [
    "from tkinter import * \n",
    "from tkinter import filedialog\n",
    "\n",
    "\n",
    "def open_file():\n",
    "    root.filename = filedialog.askopenfilename(initialdir = \"C:\\\\\", \n",
    "                    title = \"Select a file\",\n",
    "                    filetypes = ((\"PNG Files (*.png)\", \".png\"), (\"All Files (*.*)\", \"*.*\"))\n",
    "                    # filetypes precisa ser uma tupla com tuplas\n",
    "                    # caso defina somente um tipo de arquivo, \n",
    "                    # deve-se deixar a vírgula no final.\n",
    "                    )\n",
    "    label_filename = Label(root, text = root.filename)\n",
    "    label_filename.pack(padx = 10, pady = 10)\n",
    "\n",
    "\n",
    "root = Tk()\n",
    "root.title(\"First Window\")\n",
    "\n",
    "\n",
    "open_button = Button(root, text = \"Open File\", command = open_file)\n",
    "open_button.pack(padx = 10, pady = 10)\n",
    "\n",
    "\n",
    "root.mainloop()"
   ]
  },
  {
   "cell_type": "markdown",
   "metadata": {},
   "source": [
    "# Sliders"
   ]
  },
  {
   "cell_type": "code",
   "execution_count": 27,
   "metadata": {
    "tags": []
   },
   "outputs": [],
   "source": [
    "from tkinter import * \n",
    "\n",
    "\n",
    "def slide(var):  # não entendi porque tem que declarar um parâmetro\n",
    "    # my_label = Label(root, text = horizontal_slider.get())\n",
    "    # my_label.pack()\n",
    "    root.geometry(f'{horizontal_slider.get()}x400')\n",
    "\n",
    "root = Tk()\n",
    "root.title(\"First Window\")\n",
    "root.wm_geometry(\"400x400\")\n",
    "\n",
    "vertical_slider = Scale(root, \n",
    "                        from_ = 400, \n",
    "                        to = 600)\n",
    "vertical_slider.pack(anchor = E)\n",
    "\n",
    "horizontal_slider = Scale(root, \n",
    "                          from_ = 400,\n",
    "                          to = 600, \n",
    "                          orient = 'horizontal', \n",
    "                          command = slide,\n",
    "                          )\n",
    "horizontal_slider.pack(anchor = S)\n",
    "\n",
    "\n",
    "root.mainloop()"
   ]
  },
  {
   "cell_type": "markdown",
   "metadata": {},
   "source": [
    "# Checkboxes"
   ]
  },
  {
   "cell_type": "code",
   "execution_count": 29,
   "metadata": {},
   "outputs": [],
   "source": [
    "from tkinter import * \n",
    "\n",
    "\n",
    "def show():\n",
    "    my_label = Label(root, text = var.get())\n",
    "    my_label.pack()\n",
    "\n",
    "\n",
    "root = Tk()\n",
    "root.wm_geometry(\"400x400\")\n",
    "root.title(\"Titulo da janela\")\n",
    "\n",
    "# var = IntVar()  # retorna 0 ou 1\n",
    "var = StringVar()  # retornar o texto definido em onvalue e offvalue\n",
    "my_checkbox = Checkbutton(root, \n",
    "                          text = \"Check this box. I dare you!\", \n",
    "                          variable = var,\n",
    "                          onvalue = \"on\",\n",
    "                          offvalue = \"off\")\n",
    "# detalhe para evitar glitch onde o checkbox inicia selecionado e não responde à função\n",
    "my_checkbox.deselect()  \n",
    "my_checkbox.pack()\n",
    "\n",
    "my_button = Button(root, text = \"Show selection\", command = show)\n",
    "my_button.pack()\n",
    "\n",
    "\n",
    "root.mainloop()"
   ]
  },
  {
   "cell_type": "markdown",
   "metadata": {},
   "source": [
    "# Dropdown Menus"
   ]
  },
  {
   "cell_type": "markdown",
   "metadata": {},
   "source": [
    "### *Binding dropdown menus*"
   ]
  },
  {
   "cell_type": "code",
   "execution_count": 1,
   "metadata": {
    "tags": []
   },
   "outputs": [],
   "source": [
    "from tkinter import *\n",
    "\n",
    "\n",
    "def selected(event):\n",
    "    \"\"\"Reconhece automaticamente o valor do menu\"\"\"\n",
    "    if clicked.get() == \"friday\":\n",
    "        my_label = Label(root, text = \"It's friday!\")\n",
    "        my_label.pack()\n",
    "    else:\n",
    "        my_label = Label(root, text = clicked.get())\n",
    "        my_label.pack()\n",
    "\n",
    "\n",
    "root = Tk()\n",
    "root.wm_geometry(\"400x400\")\n",
    "   \n",
    "options = [\"monday\", \"tuesday\", \"wednsday\", \"thursday\", \"friday\", \"saturday\", \"sunday\"]\n",
    "\n",
    "clicked = StringVar()\n",
    "clicked.set(options[0])  # setar o valor inicial do menu\n",
    "\n",
    "drop = OptionMenu(root, clicked, *options, command = selected)\n",
    "drop.pack()\n",
    "\n",
    "\n",
    "root.mainloop()"
   ]
  },
  {
   "cell_type": "markdown",
   "metadata": {},
   "source": [
    "# ComboBox"
   ]
  },
  {
   "cell_type": "markdown",
   "metadata": {},
   "source": [
    "### *Binding combobox menus*\n",
    "---"
   ]
  },
  {
   "cell_type": "code",
   "execution_count": 35,
   "metadata": {
    "tags": []
   },
   "outputs": [],
   "source": [
    "from tkinter import *\n",
    "from tkinter import ttk\n",
    "\n",
    "\n",
    "def combo_click(event):\n",
    "    \"\"\"Reconhece automaticamente o valor do combo box\"\"\"\n",
    "    if my_combo.get() == \"friday\":\n",
    "        my_label = Label(root, text = \"It's friday!\")\n",
    "        my_label.pack()\n",
    "    else:\n",
    "        my_label = Label(root, text = my_combo.get())\n",
    "        my_label.pack()\n",
    "\n",
    "\n",
    "root = Tk()\n",
    "root.wm_geometry(\"400x400\") \n",
    "     \n",
    "options = [\"monday\", \"tuesday\", \"wednsday\", \"thursday\", \"friday\", \"saturday\", \"sunday\"]\n",
    "\n",
    "my_combo = ttk.Combobox(root, value = options)\n",
    "my_combo.current(0)\n",
    "my_combo.bind(\"<<ComboboxSelected>>\", combo_click)  # evento de selecao\n",
    "my_combo.pack()  # No caso do combo box, o .pack() tem que estar por ultimo\n",
    "\n",
    "\n",
    "root.mainloop()"
   ]
  },
  {
   "cell_type": "markdown",
   "metadata": {},
   "source": [
    "# Menu Bars\n",
    "---"
   ]
  },
  {
   "cell_type": "code",
   "execution_count": 5,
   "metadata": {},
   "outputs": [],
   "source": [
    "from tkinter import *\n",
    "\n",
    "\n",
    "def our_command():\n",
    "    my_label = Label(root, text = \"You clicked a dropdwon menu!\")\n",
    "    my_label.pack()\n",
    "\n",
    "\n",
    "root = Tk()\n",
    "root.geometry(\"300x300\")\n",
    "\n",
    "my_menu = Menu(root)\n",
    "root.config(menu = my_menu)\n",
    "\n",
    "# create a menu file\n",
    "file_menu = Menu(my_menu)\n",
    "my_menu.add_cascade(label = \"File\", menu = file_menu)\n",
    "file_menu.add_command(label = \"New\", command = our_command)\n",
    "file_menu.add_separator()\n",
    "# fecha a janela, mas não funciona direito no jupyter\n",
    "# file_menu.add_command(label = \"Exit\", command = root.quit)  \n",
    "file_menu.add_command(label = \"Exit\", command = root.destroy)  # alternativa para o jupyter\n",
    "\n",
    "# create a menu edit\n",
    "edit_menu = Menu(my_menu)\n",
    "my_menu.add_cascade(label = \"Edit\", menu = edit_menu)\n",
    "edit_menu.add_command(label = \"Copy\", command = our_command)\n",
    "edit_menu.add_command(label = \"Paste\", command = our_command) \n",
    "\n",
    "\n",
    "root.mainloop()"
   ]
  },
  {
   "cell_type": "markdown",
   "metadata": {},
   "source": [
    "# Status Bar"
   ]
  },
  {
   "cell_type": "code",
   "execution_count": 16,
   "metadata": {},
   "outputs": [],
   "source": [
    "from tkinter import * \n",
    "\n",
    "\n",
    "root = Tk()\n",
    "root.title(\"Titulo da janela\")\n",
    "\n",
    "image = Frame(root, width = 500, height = 500, bg = 'red')\n",
    "image.grid(row = 1, column = 1, padx = 5, pady = 5)\n",
    "\n",
    "status_bar = Label(\n",
    "                   root, \n",
    "                   text = \"status bar\",\n",
    "                   borderwidth = 1,  # espessura da borda\n",
    "                   relief = 'sunken',  # tipo da borda\n",
    "                   anchor = E  # alinhar no canto direito\n",
    "                   )\n",
    "status_bar.grid(row = 2, \n",
    "                column = 1, \n",
    "                padx = 5,\n",
    "                pady = 5,\n",
    "                sticky = W+E,  # esticar a barra de tarefas por toda a larguda da janela\n",
    "                )\n",
    "\n",
    "\n",
    "root.mainloop()"
   ]
  },
  {
   "cell_type": "markdown",
   "metadata": {},
   "source": [
    "# Classes"
   ]
  },
  {
   "cell_type": "code",
   "execution_count": 49,
   "metadata": {
    "tags": []
   },
   "outputs": [],
   "source": [
    "from tkinter import * \n",
    "\n",
    "\n",
    "class Example():\n",
    "    def __init__(self, master):\n",
    "        my_frame = Frame(master)\n",
    "        my_frame.pack()\n",
    "\n",
    "        self.my_button = Button(master, text = \"Click Me!\", command = self.clicker)\n",
    "        #  a função tem que ter o \"self.\" na frente\n",
    "        self.my_button.pack(pady = 10)\n",
    "\n",
    "    def clicker(self):\n",
    "        self.my_label = Label(text = \"This is a label!\")\n",
    "        self.my_label.pack(pady = 10)\n",
    "\n",
    "\n",
    "root = Tk()\n",
    "root.title(\"Titulo da janela\")\n",
    "\n",
    "instance = Example(root)\n",
    "\n",
    "\n",
    "root.mainloop()"
   ]
  },
  {
   "cell_type": "markdown",
   "metadata": {},
   "source": [
    "# Keyboard Event Bindind"
   ]
  },
  {
   "cell_type": "code",
   "execution_count": 85,
   "metadata": {
    "tags": []
   },
   "outputs": [],
   "source": [
    "from tkinter import * \n",
    "\n",
    "\n",
    "def clicker(event):\n",
    "    # my_label = Label(root, text = \"You clicked a button!\")\n",
    "        # indica qual tecla foi pressionada (nao inclui teclas especiais)\n",
    "    my_label = Label(root, text = f\"You clicked this button: {event.char}\")\n",
    "        # indica qual tecla foi pressionada (inclui teclas especiais)\n",
    "    my_label = Label(root, text = f\"You clicked this button: {event.keysym}\")\n",
    "        #  indica as coordenadas do click\n",
    "    # my_label = Label(root, \n",
    "    #                 text = f\"You clicked a button! in x = {event.x}, y = {event.y}\")\n",
    "    my_label.pack(pady = 10)\n",
    "\n",
    "\n",
    "root = Tk()\n",
    "root.title(\"Titulo da janela\")\n",
    "\n",
    "my_button = Button(root, text = \"Click Me!\", command = clicker)\n",
    "my_button.bind(\"<Key>\", clicker)   # Quando o botao está focado e pressiona qualquer tecla\n",
    "# my_button.bind(\"<Return>\", clicker)   # Quando o botao está focado e pressiona Enter\n",
    "# my_button.bind(\"<FocusIn>\", clicker)   # Quando o botao recebe o foco (tab)\n",
    "# my_button.bind(\"<FocusOut>\", clicker)   # Quando o botao perde o foco (tab)\n",
    "# my_button.bind(\"<Leave>\", clicker)   # Quando o mouse sai de cima do botao\n",
    "# my_button.bind(\"<Enter>\", clicker)   # Quando o mouse passa por cima do botao\n",
    "# my_button.bind(\"<Button-3>\", clicker)   # 3 = botao direito do mouse\n",
    "my_button.pack(pady = 10)\n",
    "\n",
    "\n",
    "root.mainloop()"
   ]
  },
  {
   "cell_type": "markdown",
   "metadata": {},
   "source": [
    "# Frames"
   ]
  },
  {
   "cell_type": "markdown",
   "metadata": {},
   "source": [
    "### *LabelFrames*"
   ]
  },
  {
   "cell_type": "code",
   "execution_count": 8,
   "metadata": {},
   "outputs": [],
   "source": [
    "from tkinter import * \n",
    "\n",
    "\n",
    "root = Tk()\n",
    "root.title(\"Titulo da janela\")\n",
    "\n",
    "my_frame = LabelFrame(root, \n",
    "                      text = \"This is my frame\", \n",
    "                      padx = 50, \n",
    "                      pady = 50\n",
    "                      )\n",
    "my_frame.pack(padx = 10, pady = 10)\n",
    "\n",
    "my_button_1 = Button(my_frame, text = \"Don't click here!...\")\n",
    "my_button_2 = Button(my_frame, text = \"...or here!\")\n",
    "\n",
    "my_button_1.grid(row = 0, column = 0)\n",
    "my_button_2.grid(row = 1, column = 1)\n",
    "\n",
    "\n",
    "root.mainloop()"
   ]
  },
  {
   "cell_type": "markdown",
   "metadata": {},
   "source": [
    "### *Using Frames with Menus*"
   ]
  },
  {
   "cell_type": "code",
   "execution_count": 11,
   "metadata": {
    "tags": []
   },
   "outputs": [],
   "source": [
    "from tkinter import *\n",
    "\n",
    "\n",
    "def red_frame_command():\n",
    "    hide_all_frames()\n",
    "    file_red_frame.pack(fill = 'both',  # X, Y ou BOTH\n",
    "                        expand = 1,  # preenche todo o espaço nao utilizado por outro widget\n",
    "                        )\n",
    "    my_label = Label(file_red_frame, text = \"You clicked a Red Frame menu!\")\n",
    "    my_label.pack()\n",
    "\n",
    "def blue_frame_command():\n",
    "    hide_all_frames()\n",
    "    edit_blue_frame.pack(fill = 'both',  # X, Y ou BOTH\n",
    "                        expand = 1,  # preenche todo o espaço nao utilizado por outro widget\n",
    "                        )\n",
    "    my_label = Label(edit_blue_frame, text = \"You clicked a Blue Frame menu!\")\n",
    "    my_label.pack()\n",
    "\n",
    "def hide_all_frames():\n",
    "    for widget in file_red_frame.winfo_children():\n",
    "        widget.destroy()  # destroi todos os widgets dentro do frame\n",
    "\n",
    "    for widget in edit_blue_frame.winfo_children():\n",
    "        widget.destroy()  # destroi todos os widgets dentro do frame\n",
    "\n",
    "    file_red_frame.pack_forget()\n",
    "    edit_blue_frame.pack_forget()\n",
    "\n",
    "\n",
    "root = Tk()\n",
    "root.geometry(\"300x300\")\n",
    "\n",
    "my_menu = Menu(root)\n",
    "root.config(menu = my_menu)\n",
    "\n",
    "# create a menu file\n",
    "file_menu = Menu(my_menu)\n",
    "my_menu.add_cascade(label = \"File\", menu = file_menu)\n",
    "file_menu.add_command(label = \"Red Frame\", command = red_frame_command)\n",
    "\n",
    "# create a menu edit\n",
    "edit_menu = Menu(my_menu)\n",
    "my_menu.add_cascade(label = \"Edit\", menu = edit_menu)\n",
    "edit_menu.add_command(label = \"Blue Frame\", command = blue_frame_command)\n",
    "\n",
    "# create some frames\n",
    "file_red_frame = Frame(root, width = 300, height = 300, bg = 'red')\n",
    "edit_blue_frame = Frame(root, width = 300, height = 300, bg = 'blue')\n",
    "\n",
    "\n",
    "root.mainloop()"
   ]
  },
  {
   "cell_type": "markdown",
   "metadata": {},
   "source": [
    "# Paned Windows"
   ]
  },
  {
   "cell_type": "code",
   "execution_count": 84,
   "metadata": {},
   "outputs": [],
   "source": [
    "from tkinter import *\n",
    "\n",
    "\n",
    "root = Tk()\n",
    "root.geometry(\"300x300\")\n",
    "\n",
    "# nao entendi porque nao inserir o painel no root\n",
    "painel_1 = PanedWindow(bd = 4,\n",
    "                       relief = \"raised\",\n",
    "                       bg = 'red'\n",
    "                       )\n",
    "painel_1.pack(fill = 'both', expand = 1)\n",
    "left_label = Label(painel_1, text = 'Left Painel')\n",
    "painel_1.add(left_label)\n",
    "\n",
    "\n",
    "painel_2 = PanedWindow(painel_1,\n",
    "                       orient = 'vertical',\n",
    "                       bd = 4,\n",
    "                       relief = \"raised\",\n",
    "                       bg = 'blue'\n",
    "                       )\n",
    "top_label = Label(painel_2, text = \"Top Painel\")\n",
    "bottom_label = Label(painel_2, text = \"Bottom Painel\")\n",
    "painel_2.add(top_label)\n",
    "painel_2.add(bottom_label)\n",
    "painel_1.add(painel_2)\n",
    "\n",
    "\n",
    "root.mainloop()"
   ]
  },
  {
   "cell_type": "markdown",
   "metadata": {},
   "source": [
    "# Color Picker"
   ]
  },
  {
   "cell_type": "code",
   "execution_count": 7,
   "metadata": {
    "tags": []
   },
   "outputs": [],
   "source": [
    "from tkinter import *\n",
    "from tkinter import colorchooser\n",
    "\n",
    "\n",
    "def pick_color():\n",
    "    my_color = colorchooser.askcolor()\n",
    "\n",
    "    my_color_label = Label(root, text = f'All color code: {my_color}', bg = my_color[1])\n",
    "    my_color_label.pack(pady = 10)\n",
    "\n",
    "    rgb_color_label = Label(root, text = f'RGB code: {my_color[0]}', bg = my_color[1])\n",
    "    rgb_color_label.pack(pady = 10)\n",
    "\n",
    "    hexadecimal_color_label = Label(root, text = f'Hexadecimal code: {my_color[1]}', bg = my_color[1])\n",
    "    hexadecimal_color_label.pack(pady = 10)\n",
    "\n",
    "\n",
    "root = Tk()\n",
    "# root.geometry(\"300x300\")\n",
    "\n",
    "\n",
    "my_button = Button(root, text = 'Pick a color', command = pick_color)\n",
    "my_button.pack(padx = 10, pady = 10)\n",
    "\n",
    "\n",
    "root.mainloop()"
   ]
  },
  {
   "cell_type": "code",
   "execution_count": null,
   "metadata": {},
   "outputs": [],
   "source": []
  }
 ],
 "metadata": {
  "kernelspec": {
   "display_name": "Python 3",
   "language": "python",
   "name": "python3"
  },
  "language_info": {
   "codemirror_mode": {
    "name": "ipython",
    "version": 3
   },
   "file_extension": ".py",
   "mimetype": "text/x-python",
   "name": "python",
   "nbconvert_exporter": "python",
   "pygments_lexer": "ipython3",
   "version": "3.8.3"
  }
 },
 "nbformat": 4,
 "nbformat_minor": 4
}